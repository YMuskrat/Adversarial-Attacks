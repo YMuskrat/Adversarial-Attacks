{
 "cells": [
  {
   "cell_type": "code",
   "execution_count": 1,
   "metadata": {},
   "outputs": [],
   "source": [
    "import sys\n",
    "import os\n",
    "import pandas as pd\n",
    "module_path = os.path.abspath(os.path.join(os.pardir, os.pardir))\n",
    "if module_path not in sys.path:\n",
    "    sys.path.append(module_path)"
   ]
  },
  {
   "cell_type": "code",
   "execution_count": null,
   "metadata": {},
   "outputs": [],
   "source": [
    "%pip install tensorflow"
   ]
  },
  {
   "cell_type": "code",
   "execution_count": 2,
   "metadata": {},
   "outputs": [
    {
     "name": "stdout",
     "output_type": "stream",
     "text": [
      "1/1 [==============================] - 1s 827ms/step\n",
      "Downloading data from https://storage.googleapis.com/download.tensorflow.org/data/imagenet_class_index.json\n",
      "35363/35363 [==============================] - 0s 0us/step\n"
     ]
    },
    {
     "data": {
      "text/plain": [
       "(<tf.Tensor: shape=(1, 224, 224, 3), dtype=float32, numpy=\n",
       " array([[[[-0.7146565 , -0.62382174, -0.7018498 ],\n",
       "          [-0.652416  , -0.5881593 , -0.6032757 ],\n",
       "          [-0.634355  , -0.5511195 , -0.614362  ],\n",
       "          ...,\n",
       "          [-0.6101566 , -0.48643827, -0.61799973],\n",
       "          [-0.7717048 , -0.6625117 , -0.7457556 ],\n",
       "          [-0.7628667 , -0.6572645 , -0.6994914 ]],\n",
       " \n",
       "         [[-0.76242244, -0.6508932 , -0.7180091 ],\n",
       "          [-0.729569  , -0.6448411 , -0.6780462 ],\n",
       "          [-0.5838207 , -0.50538933, -0.5681344 ],\n",
       "          ...,\n",
       "          [-0.7989391 , -0.7114741 , -0.7744026 ],\n",
       "          [-0.7624451 , -0.66283023, -0.7412616 ],\n",
       "          [-0.7107361 , -0.6196997 , -0.665568  ]],\n",
       " \n",
       "         [[-0.7508484 , -0.67686385, -0.729665  ],\n",
       "          [-0.6365706 , -0.5636364 , -0.599779  ],\n",
       "          [-0.5475737 , -0.46182537, -0.5193884 ],\n",
       "          ...,\n",
       "          [-0.73296714, -0.6093677 , -0.6938207 ],\n",
       "          [-0.6602106 , -0.55319434, -0.6461619 ],\n",
       "          [-0.62465096, -0.48410475, -0.5769619 ]],\n",
       " \n",
       "         ...,\n",
       " \n",
       "         [[ 0.8669988 ,  0.8042537 ,  0.7179792 ],\n",
       "          [ 0.82833993,  0.7812811 ,  0.6871635 ],\n",
       "          [ 0.7744757 ,  0.7274169 ,  0.63329923],\n",
       "          ...,\n",
       "          [ 0.51838887,  0.4404837 ,  0.35921347],\n",
       "          [ 0.6484039 ,  0.5706028 ,  0.48902023],\n",
       "          [ 0.70139456,  0.632697  ,  0.5589577 ]],\n",
       " \n",
       "         [[ 0.7602755 ,  0.6975304 ,  0.5955696 ],\n",
       "          [ 0.70843565,  0.64569056,  0.5547242 ],\n",
       "          [ 0.8537191 ,  0.79881716,  0.67332697],\n",
       "          ...,\n",
       "          [ 0.5849447 ,  0.5143565 ,  0.38102317],\n",
       "          [ 0.5637677 ,  0.5065198 ,  0.3575002 ],\n",
       "          [ 0.6853237 ,  0.6171166 ,  0.49827898]],\n",
       " \n",
       "         [[ 0.81511354,  0.7507926 ,  0.6385027 ],\n",
       "          [ 0.81207395,  0.7336426 ,  0.63952494],\n",
       "          [ 0.7958125 ,  0.7247268 ,  0.608572  ],\n",
       "          ...,\n",
       "          [ 0.5998777 ,  0.5292895 ,  0.39595616],\n",
       "          [ 0.74909484,  0.68950117,  0.5472839 ],\n",
       "          [ 0.6935893 ,  0.6386874 ,  0.51319706]]]], dtype=float32)>,\n",
       " 'tench',\n",
       " 0.931743)"
      ]
     },
     "execution_count": 2,
     "metadata": {},
     "output_type": "execute_result"
    }
   ],
   "source": [
    "from src.models.pre_trained import Model\n",
    "\n",
    "model=Model()\n",
    "model.predict('../../data/tiny_imagenet/n01440764_1775.JPEG')\n"
   ]
  }
 ],
 "metadata": {
  "kernelspec": {
   "display_name": "Python 3.9.7 ('base')",
   "language": "python",
   "name": "python3"
  },
  "language_info": {
   "codemirror_mode": {
    "name": "ipython",
    "version": 3
   },
   "file_extension": ".py",
   "mimetype": "text/x-python",
   "name": "python",
   "nbconvert_exporter": "python",
   "pygments_lexer": "ipython3",
   "version": "3.9.7"
  },
  "orig_nbformat": 4,
  "vscode": {
   "interpreter": {
    "hash": "86683d5093cdfc248c2052b98028b5f92fe0b16c5df7a151fa3a945cb67b6e02"
   }
  }
 },
 "nbformat": 4,
 "nbformat_minor": 2
}
