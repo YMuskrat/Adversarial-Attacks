{
 "cells": [
  {
   "cell_type": "code",
   "execution_count": 1,
   "metadata": {},
   "outputs": [],
   "source": [
    "import sys\n",
    "import os\n",
    "import pandas as pd\n",
    "module_path = os.path.abspath(os.path.join(os.pardir, os.pardir))\n",
    "if module_path not in sys.path:\n",
    "    sys.path.append(module_path)"
   ]
  },
  {
   "cell_type": "code",
   "execution_count": 2,
   "metadata": {},
   "outputs": [],
   "source": [
    "from src.models.pre_trained import Model\n",
    "from src.utils.Plotter import ImageHandler\n",
    "from src.models.Adversarial_Attack import Adversarial_Attack\n",
    "from src.models.Constractive_Learning import Contrastive_Learning\n",
    "from src.utils.quantisation import quantization"
   ]
  },
  {
   "cell_type": "code",
   "execution_count": 3,
   "metadata": {},
   "outputs": [],
   "source": [
    "ImageHandler = ImageHandler()\n",
    "AD = Adversarial_Attack('resnet200')"
   ]
  },
  {
   "cell_type": "markdown",
   "metadata": {},
   "source": [
    "FSGM"
   ]
  },
  {
   "cell_type": "code",
   "execution_count": 4,
   "metadata": {},
   "outputs": [
    {
     "name": "stdout",
     "output_type": "stream",
     "text": [
      "1/1 [==============================] - 5s 5s/step\n",
      "1/1 [==============================] - 4s 4s/step\n",
      "1/1 [==============================] - 4s 4s/step\n",
      "1/1 [==============================] - 4s 4s/step\n"
     ]
    }
   ],
   "source": [
    "image_list_32, description_list_32, label_list_32, confidence_list_32, pertubation_list_32 = AD.adversarial_attack(\n",
    "    '../../data/tiny_imagenet/golden-retriever-royalty-free-image-506756303-1560962726.jpg', 'FSGM', quantization=[False, '32 bit'])\n",
    "image_list_16, description_list_16, label_list_16, confidence_list_16, pertubation_list_16 = AD.adversarial_attack(\n",
    "    '../../data/tiny_imagenet/golden-retriever-royalty-free-image-506756303-1560962726.jpg', 'FSGM', quantization=[True, '16 bit'])\n",
    "image_list_8, description_list_8, label_list_8, confidence_list_8, pertubation_list_8 = AD.adversarial_attack(\n",
    "    '../../data/tiny_imagenet/golden-retriever-royalty-free-image-506756303-1560962726.jpg', 'FSGM', quantization=[True, '8 bit'])\n"
   ]
  },
  {
   "cell_type": "code",
   "execution_count": null,
   "metadata": {},
   "outputs": [],
   "source": [
    "ImageHandler.image_drawer(image_list_32, description_list_32, label_list_32, confidence_list_32, pertubation_list_32,\n",
    "                          image_list_16, description_list_16, label_list_16, confidence_list_16,\n",
    "                          image_list_8, description_list_8, label_list_8, confidence_list_8)\n"
   ]
  },
  {
   "cell_type": "markdown",
   "metadata": {},
   "source": [
    "Iterative_FSGM"
   ]
  },
  {
   "cell_type": "code",
   "execution_count": null,
   "metadata": {},
   "outputs": [],
   "source": [
    "image_list_32, description_list_32, label_list_32, confidence_list_32, pertubation_list_32 = AD.adversarial_attack(\n",
    "    '../../data/tiny_imagenet/golden-retriever-royalty-free-image-506756303-1560962726.jpg', 'iterative_FGSM', quantization=[False, '32 bit'])\n",
    "image_list_16, description_list_16, label_list_16, confidence_list_16, pertubation_list_16 = AD.adversarial_attack(\n",
    "    '../../data/tiny_imagenet/golden-retriever-royalty-free-image-506756303-1560962726.jpg', 'iterative_FGSM', quantization=[True, '16 bit'])\n",
    "image_list_8, description_list_8, label_list_8, confidence_list_8, pertubation_list_8 = AD.adversarial_attack(\n",
    "    '../../data/tiny_imagenet/golden-retriever-royalty-free-image-506756303-1560962726.jpg', 'iterative_FGSM', quantization=[True, '8 bit'])\n"
   ]
  },
  {
   "cell_type": "code",
   "execution_count": null,
   "metadata": {},
   "outputs": [],
   "source": [
    "ImageHandler.image_drawer(image_list_32, description_list_32, label_list_32, confidence_list_32, pertubation_list_32,\n",
    "                          image_list_16, description_list_16, label_list_16, confidence_list_16,\n",
    "                          image_list_8, description_list_8, label_list_8, confidence_list_8)\n"
   ]
  }
 ],
 "metadata": {
  "kernelspec": {
   "display_name": "Python 3.9.7 ('base')",
   "language": "python",
   "name": "python3"
  },
  "language_info": {
   "codemirror_mode": {
    "name": "ipython",
    "version": 3
   },
   "file_extension": ".py",
   "mimetype": "text/x-python",
   "name": "python",
   "nbconvert_exporter": "python",
   "pygments_lexer": "ipython3",
   "version": "3.9.7"
  },
  "orig_nbformat": 4,
  "vscode": {
   "interpreter": {
    "hash": "86683d5093cdfc248c2052b98028b5f92fe0b16c5df7a151fa3a945cb67b6e02"
   }
  }
 },
 "nbformat": 4,
 "nbformat_minor": 2
}
